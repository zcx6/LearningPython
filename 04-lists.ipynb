{
 "cells": [
  {
   "cell_type": "code",
   "execution_count": 1,
   "id": "0a9071f3-8cdc-4eff-92a1-dd5974718545",
   "metadata": {},
   "outputs": [
    {
     "name": "stdout",
     "output_type": "stream",
     "text": [
      "Odds are: [1, 3, 5, 7]\n"
     ]
    }
   ],
   "source": [
    "odds = [1 ,3, 5, 7]\n",
    "print('Odds are:', odds)"
   ]
  },
  {
   "cell_type": "code",
   "execution_count": 2,
   "id": "58389cf6-1644-4b35-92c5-3e7685680b83",
   "metadata": {},
   "outputs": [
    {
     "name": "stdout",
     "output_type": "stream",
     "text": [
      "First element in the list 1\n"
     ]
    }
   ],
   "source": [
    "print(\"First element in the list\", odds[0])"
   ]
  },
  {
   "cell_type": "code",
   "execution_count": 3,
   "id": "83d8f514-0fe8-4013-aba6-79cc2b9ba426",
   "metadata": {},
   "outputs": [
    {
     "name": "stdout",
     "output_type": "stream",
     "text": [
      "Last element in the list 7\n"
     ]
    }
   ],
   "source": [
    "print(\"Last element in the list\", odds[-1])"
   ]
  },
  {
   "cell_type": "code",
   "execution_count": 7,
   "id": "463ca0a2-71f4-4100-959e-931372e5f851",
   "metadata": {},
   "outputs": [
    {
     "name": "stdout",
     "output_type": "stream",
     "text": [
      "every second element in the list [1, 5]\n"
     ]
    }
   ],
   "source": [
    "print(\"every second element in the list\", odds[0::2]) #从0开始每隔两格读数"
   ]
  },
  {
   "cell_type": "code",
   "execution_count": 5,
   "id": "06afe380-3c47-4952-844d-c6418c43e771",
   "metadata": {},
   "outputs": [
    {
     "name": "stdout",
     "output_type": "stream",
     "text": [
      "names is originally ['curie', 'Drawing', 'Turing']\n",
      "Final values of names ['curie', 'Darwin', 'Turing']\n"
     ]
    }
   ],
   "source": [
    "names = [\"curie\", \"Drawing\", \"Turing\"]\n",
    "print(\"names is originally\", names)\n",
    "names[1] = \"Darwin\"\n",
    "print(\"Final values of names\", names)"
   ]
  },
  {
   "cell_type": "code",
   "execution_count": 6,
   "id": "5d3333da-6076-4d72-b900-2e1f8590785e",
   "metadata": {},
   "outputs": [
    {
     "name": "stdout",
     "output_type": "stream",
     "text": [
      "First character in the name D\n"
     ]
    }
   ],
   "source": [
    "name = \"Darwin\"\n",
    "print(\"First character in the name\", name[0])"
   ]
  },
  {
   "cell_type": "code",
   "execution_count": 8,
   "id": "73e7933f-9ae4-4fa5-9bc4-4f1ee636260e",
   "metadata": {},
   "outputs": [
    {
     "ename": "TypeError",
     "evalue": "'str' object does not support item assignment",
     "output_type": "error",
     "traceback": [
      "\u001b[1;31m---------------------------------------------------------------------------\u001b[0m",
      "\u001b[1;31mTypeError\u001b[0m                                 Traceback (most recent call last)",
      "Input \u001b[1;32mIn [8]\u001b[0m, in \u001b[0;36m<cell line: 1>\u001b[1;34m()\u001b[0m\n\u001b[1;32m----> 1\u001b[0m name[\u001b[38;5;241m0\u001b[39m] \u001b[38;5;241m=\u001b[39m \u001b[38;5;124m'\u001b[39m\u001b[38;5;124md\u001b[39m\u001b[38;5;124m'\u001b[39m\n",
      "\u001b[1;31mTypeError\u001b[0m: 'str' object does not support item assignment"
     ]
    }
   ],
   "source": [
    "name[0] = 'd'"
   ]
  },
  {
   "cell_type": "code",
   "execution_count": 9,
   "id": "a4483afd-3c70-436f-9322-ec6f1f898bc1",
   "metadata": {},
   "outputs": [],
   "source": [
    "x = [\n",
    "    [\"pepper\", \"courgette\", \"onion\"],\n",
    "    [\"cabbage\", \"lettuce\", \"garlic\"],\n",
    "    [\"apple\", \"pear\", \"banana\"]\n",
    "]"
   ]
  },
  {
   "cell_type": "code",
   "execution_count": 10,
   "id": "7f361afb-3a3c-4a52-805b-5d97e242127e",
   "metadata": {},
   "outputs": [
    {
     "name": "stdout",
     "output_type": "stream",
     "text": [
      "['pepper', 'courgette', 'onion']\n"
     ]
    }
   ],
   "source": [
    "print(x[0])"
   ]
  },
  {
   "cell_type": "code",
   "execution_count": 11,
   "id": "5a935c52-b2bf-464d-be22-e92dd1e81f07",
   "metadata": {},
   "outputs": [
    {
     "name": "stdout",
     "output_type": "stream",
     "text": [
      "courgette\n"
     ]
    }
   ],
   "source": [
    "print(x[0][1])"
   ]
  },
  {
   "cell_type": "code",
   "execution_count": 12,
   "id": "34d06d89-5d5a-4932-a642-482641a135d9",
   "metadata": {},
   "outputs": [],
   "source": [
    "sample_ages = [10, 12.5, \"unknown\"]"
   ]
  },
  {
   "cell_type": "code",
   "execution_count": 13,
   "id": "8f29e445-327f-4b09-8d57-2ed83282c8d2",
   "metadata": {},
   "outputs": [
    {
     "name": "stdout",
     "output_type": "stream",
     "text": [
      "<class 'int'>\n",
      "<class 'float'>\n",
      "<class 'str'>\n"
     ]
    }
   ],
   "source": [
    "print(type(sample_ages[0]))\n",
    "print(type(sample_ages[1]))\n",
    "print(type(sample_ages[2]))"
   ]
  },
  {
   "cell_type": "code",
   "execution_count": 14,
   "id": "d4c22ebf-fe6b-4600-b6f2-9af7c091ce44",
   "metadata": {},
   "outputs": [
    {
     "name": "stdout",
     "output_type": "stream",
     "text": [
      "Odds after adding a value [1, 3, 5, 7, 11]\n"
     ]
    }
   ],
   "source": [
    "odds.append(11)\n",
    "print(\"Odds after adding a value\", odds)"
   ]
  },
  {
   "cell_type": "code",
   "execution_count": 15,
   "id": "c7186621-cf38-47ba-8704-5a5ca00fbacf",
   "metadata": {},
   "outputs": [
    {
     "name": "stdout",
     "output_type": "stream",
     "text": [
      "Odds after removing the first element [3, 5, 7, 11]\n",
      "removed_element 1\n"
     ]
    }
   ],
   "source": [
    "removed_element = odds.pop(0)\n",
    "print(\"Odds after removing the first element\", odds)\n",
    "print(\"removed_element\", removed_element)"
   ]
  },
  {
   "cell_type": "code",
   "execution_count": 16,
   "id": "bb8e8135-60c7-4253-a5aa-024dce0f1d7d",
   "metadata": {},
   "outputs": [
    {
     "name": "stdout",
     "output_type": "stream",
     "text": [
      "None\n"
     ]
    }
   ],
   "source": [
    "print(odds.reverse())"
   ]
  },
  {
   "cell_type": "code",
   "execution_count": 17,
   "id": "b79fc82c-a9dd-4a60-ae1d-8cddad0d0dd4",
   "metadata": {},
   "outputs": [
    {
     "data": {
      "text/plain": [
       "[11, 7, 5, 3]"
      ]
     },
     "execution_count": 17,
     "metadata": {},
     "output_type": "execute_result"
    }
   ],
   "source": [
    "odds"
   ]
  },
  {
   "cell_type": "code",
   "execution_count": 18,
   "id": "cd99064b-efcd-41f2-ab8a-2abab82dfa80",
   "metadata": {},
   "outputs": [],
   "source": [
    "string_for_slicing = 'Obervation date: 02-Feb-2013'"
   ]
  },
  {
   "cell_type": "code",
   "execution_count": 26,
   "id": "67d968f8-b40c-4d72-a990-c6528cb7ac39",
   "metadata": {},
   "outputs": [
    {
     "name": "stdout",
     "output_type": "stream",
     "text": [
      "2013\n"
     ]
    }
   ],
   "source": [
    "print(string_for_slicing[-4:])"
   ]
  },
  {
   "cell_type": "code",
   "execution_count": 27,
   "id": "b35f4003-3ae7-4c74-80f5-e2f2359e7f18",
   "metadata": {},
   "outputs": [],
   "source": [
    "beatles = \"In an octopus's garden in the shade\""
   ]
  },
  {
   "cell_type": "code",
   "execution_count": 28,
   "id": "51ecddd7-d8f3-4251-8999-352604d73a0f",
   "metadata": {},
   "outputs": [
    {
     "data": {
      "text/plain": [
       "'I notpssgre ntesae'"
      ]
     },
     "execution_count": 28,
     "metadata": {},
     "output_type": "execute_result"
    }
   ],
   "source": [
    "beatles[::2]"
   ]
  },
  {
   "cell_type": "code",
   "execution_count": 30,
   "id": "1199e526-1678-44e7-b82a-91881725d3f7",
   "metadata": {},
   "outputs": [
    {
     "name": "stdout",
     "output_type": "stream",
     "text": [
      "[2, 4, 6, 8, 10, 2, 4, 6, 8, 10]\n"
     ]
    }
   ],
   "source": [
    "counts = [2, 4, 6, 8, 10]\n",
    "print(counts * 2)"
   ]
  },
  {
   "cell_type": "code",
   "execution_count": null,
   "id": "055e2923-2aed-4987-8273-8b52ff1b59ea",
   "metadata": {},
   "outputs": [],
   "source": []
  }
 ],
 "metadata": {
  "kernelspec": {
   "display_name": "Python 3 (ipykernel)",
   "language": "python",
   "name": "python3"
  },
  "language_info": {
   "codemirror_mode": {
    "name": "ipython",
    "version": 3
   },
   "file_extension": ".py",
   "mimetype": "text/x-python",
   "name": "python",
   "nbconvert_exporter": "python",
   "pygments_lexer": "ipython3",
   "version": "3.9.12"
  }
 },
 "nbformat": 4,
 "nbformat_minor": 5
}
