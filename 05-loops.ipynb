{
 "cells": [
  {
   "cell_type": "code",
   "execution_count": 1,
   "id": "29fcc9d8-0045-438a-9d3c-45fe0aebaf67",
   "metadata": {},
   "outputs": [],
   "source": [
    "odds = [1, 3, 5, 7]"
   ]
  },
  {
   "cell_type": "code",
   "execution_count": 2,
   "id": "c25886b9-12fe-4d16-b335-d47b2a18826b",
   "metadata": {},
   "outputs": [
    {
     "name": "stdout",
     "output_type": "stream",
     "text": [
      "1\n",
      "3\n",
      "5\n",
      "7\n"
     ]
    }
   ],
   "source": [
    "print(odds[0])\n",
    "print(odds[1])\n",
    "print(odds[2])\n",
    "print(odds[3])"
   ]
  },
  {
   "cell_type": "code",
   "execution_count": 3,
   "id": "74a66fc6-0780-4459-8078-49a0d1781fe7",
   "metadata": {},
   "outputs": [
    {
     "name": "stdout",
     "output_type": "stream",
     "text": [
      "1\n",
      "3\n",
      "5\n",
      "7\n",
      "9\n",
      "11\n"
     ]
    }
   ],
   "source": [
    "odds = [1, 3, 5, 7, 9, 11]\n",
    "for num in odds:\n",
    "    print(num)"
   ]
  },
  {
   "cell_type": "code",
   "execution_count": 7,
   "id": "5389ff26-e942-4f99-a70c-c3e5ffadb2cd",
   "metadata": {},
   "outputs": [
    {
     "name": "stdout",
     "output_type": "stream",
     "text": [
      "1\n",
      "3\n",
      "5\n"
     ]
    }
   ],
   "source": [
    "odds = [1, 3, 5]\n",
    "for num in odds:\n",
    "    print(num)"
   ]
  },
  {
   "cell_type": "code",
   "execution_count": 8,
   "id": "ae2e71e0-3629-40cb-8800-7b84bd4965a4",
   "metadata": {},
   "outputs": [],
   "source": [
    "# for variable in sequence:\n",
    "    # do things with variable"
   ]
  },
  {
   "cell_type": "code",
   "execution_count": 9,
   "id": "bbdd721a-953f-4041-b3e1-ccbfa4a828a5",
   "metadata": {},
   "outputs": [
    {
     "name": "stdout",
     "output_type": "stream",
     "text": [
      "1\n",
      "3\n",
      "5\n"
     ]
    }
   ],
   "source": [
    "for banana in odds:\n",
    "    print(banana)"
   ]
  },
  {
   "cell_type": "code",
   "execution_count": 10,
   "id": "2a6ebd52-fa11-4697-a09a-3f5192235c07",
   "metadata": {},
   "outputs": [
    {
     "name": "stdout",
     "output_type": "stream",
     "text": [
      "There are  3 names is the list\n"
     ]
    }
   ],
   "source": [
    "length = 0\n",
    "names = [\"Curie\", \"Darwin\", \"Turing\"]\n",
    "for name in names:\n",
    "    length = length + 1\n",
    "print(\"There are \", length, \"names is the list\")"
   ]
  },
  {
   "cell_type": "code",
   "execution_count": 11,
   "id": "2628a30a-3a55-4789-a946-575c9d99807d",
   "metadata": {},
   "outputs": [
    {
     "data": {
      "text/plain": [
       "3"
      ]
     },
     "execution_count": 11,
     "metadata": {},
     "output_type": "execute_result"
    }
   ],
   "source": [
    "len(names)"
   ]
  },
  {
   "cell_type": "code",
   "execution_count": 12,
   "id": "121051a2-e524-4e87-8266-9334232f460f",
   "metadata": {},
   "outputs": [
    {
     "name": "stdout",
     "output_type": "stream",
     "text": [
      "o\n",
      "x\n",
      "y\n",
      "g\n",
      "e\n",
      "n\n"
     ]
    }
   ],
   "source": [
    "word = 'oxygen'\n",
    "for char in word:\n",
    "    print(char)"
   ]
  },
  {
   "cell_type": "code",
   "execution_count": null,
   "id": "72a067ca-91fc-4d91-b58b-02c8a1d18e6c",
   "metadata": {},
   "outputs": [],
   "source": []
  }
 ],
 "metadata": {
  "kernelspec": {
   "display_name": "Python 3 (ipykernel)",
   "language": "python",
   "name": "python3"
  },
  "language_info": {
   "codemirror_mode": {
    "name": "ipython",
    "version": 3
   },
   "file_extension": ".py",
   "mimetype": "text/x-python",
   "name": "python",
   "nbconvert_exporter": "python",
   "pygments_lexer": "ipython3",
   "version": "3.9.12"
  }
 },
 "nbformat": 4,
 "nbformat_minor": 5
}
