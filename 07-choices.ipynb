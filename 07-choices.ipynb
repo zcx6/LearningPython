{
 "cells": [
  {
   "cell_type": "code",
   "execution_count": 1,
   "id": "0414f3ce-44e3-4374-8560-0108ae05933e",
   "metadata": {},
   "outputs": [
    {
     "name": "stdout",
     "output_type": "stream",
     "text": [
      "No greater than 100\n",
      "Done\n"
     ]
    }
   ],
   "source": [
    "num = 37\n",
    "if num > 100:\n",
    "    print(\"Greater than 100\")\n",
    "else:\n",
    "    print(\"No greater than 100\")\n",
    "print(\"Done\")"
   ]
  },
  {
   "cell_type": "code",
   "execution_count": 2,
   "id": "fe8c64b3-0568-4fa5-a361-8d3d518eeb3a",
   "metadata": {},
   "outputs": [
    {
     "name": "stdout",
     "output_type": "stream",
     "text": [
      "No greater than 100\n",
      "Done\n"
     ]
    }
   ],
   "source": [
    "num = 100\n",
    "if num > 100:\n",
    "    print(\"Greater than 100\")\n",
    "else:\n",
    "    print(\"No greater than 100\")\n",
    "print(\"Done\")"
   ]
  },
  {
   "cell_type": "code",
   "execution_count": 3,
   "id": "5875aa02-ad24-4c30-a944-84f452592dfb",
   "metadata": {},
   "outputs": [
    {
     "name": "stdout",
     "output_type": "stream",
     "text": [
      "Greater than 100\n",
      "Done\n"
     ]
    }
   ],
   "source": [
    "num = 200\n",
    "if num > 100:\n",
    "    print(\"Greater than 100\")\n",
    "else:\n",
    "    print(\"No greater than 100\")\n",
    "print(\"Done\")"
   ]
  },
  {
   "cell_type": "code",
   "execution_count": 4,
   "id": "fdc200f4-6355-4353-8f01-9d78490fe31a",
   "metadata": {},
   "outputs": [
    {
     "data": {
      "text/plain": [
       "True"
      ]
     },
     "execution_count": 4,
     "metadata": {},
     "output_type": "execute_result"
    }
   ],
   "source": [
    "2 < 4"
   ]
  },
  {
   "cell_type": "code",
   "execution_count": 5,
   "id": "94e88b7f-427c-4a8d-9ec3-bc8095f853c6",
   "metadata": {},
   "outputs": [
    {
     "data": {
      "text/plain": [
       "True"
      ]
     },
     "execution_count": 5,
     "metadata": {},
     "output_type": "execute_result"
    }
   ],
   "source": [
    "5 <= 5"
   ]
  },
  {
   "cell_type": "code",
   "execution_count": 6,
   "id": "2b51fe66-13a5-4443-be4d-3d0c01f04956",
   "metadata": {},
   "outputs": [
    {
     "data": {
      "text/plain": [
       "True"
      ]
     },
     "execution_count": 6,
     "metadata": {},
     "output_type": "execute_result"
    }
   ],
   "source": [
    "6 >= 5"
   ]
  },
  {
   "cell_type": "code",
   "execution_count": 7,
   "id": "25508fce-5595-42d2-bc2a-9db126f618b6",
   "metadata": {},
   "outputs": [
    {
     "data": {
      "text/plain": [
       "False"
      ]
     },
     "execution_count": 7,
     "metadata": {},
     "output_type": "execute_result"
    }
   ],
   "source": [
    "2 == 4"
   ]
  },
  {
   "cell_type": "code",
   "execution_count": 8,
   "id": "8ee3f9d7-63e7-43a4-b216-b1178859496d",
   "metadata": {},
   "outputs": [
    {
     "data": {
      "text/plain": [
       "False"
      ]
     },
     "execution_count": 8,
     "metadata": {},
     "output_type": "execute_result"
    }
   ],
   "source": [
    "name = \"Curie\"\n",
    "second_name = \"Turing\"\n",
    "name == second_name"
   ]
  },
  {
   "cell_type": "code",
   "execution_count": 9,
   "id": "18723506-b74f-4573-9714-4dee8ee2d2ca",
   "metadata": {},
   "outputs": [
    {
     "data": {
      "text/plain": [
       "True"
      ]
     },
     "execution_count": 9,
     "metadata": {},
     "output_type": "execute_result"
    }
   ],
   "source": [
    "name <= second_name"
   ]
  },
  {
   "cell_type": "code",
   "execution_count": 10,
   "id": "7fea4a33-ba18-4486-a559-eb08d7ba2c1b",
   "metadata": {},
   "outputs": [
    {
     "data": {
      "text/plain": [
       "True"
      ]
     },
     "execution_count": 10,
     "metadata": {},
     "output_type": "execute_result"
    }
   ],
   "source": [
    "name != second_name"
   ]
  },
  {
   "cell_type": "code",
   "execution_count": 11,
   "id": "fd7cd2dc-db55-422a-852a-9c742f381879",
   "metadata": {},
   "outputs": [
    {
     "name": "stdout",
     "output_type": "stream",
     "text": [
      "at least one test is ture\n"
     ]
    }
   ],
   "source": [
    "if (1 < 0) or (1 >= 0):\n",
    "    print(\"at least one test is ture\")"
   ]
  },
  {
   "cell_type": "code",
   "execution_count": 12,
   "id": "d23f3f7d-cee1-4ae1-8a94-87cb3c8cdd79",
   "metadata": {},
   "outputs": [],
   "source": [
    "import numpy as np\n",
    "\n",
    "data = np.loadtxt(\"data/inflammation-01.csv\", delimiter=\",\")"
   ]
  },
  {
   "cell_type": "code",
   "execution_count": 13,
   "id": "476309b4-ea35-4174-ae65-b6578634e0a0",
   "metadata": {},
   "outputs": [
    {
     "name": "stdout",
     "output_type": "stream",
     "text": [
      "Suspicious looking maxima!\n"
     ]
    }
   ],
   "source": [
    "max_inflammation_0 = data.max(axis=0)[0]\n",
    "max_inflammation_20 = data.max(axis=0)[20]\n",
    "\n",
    "if max_inflammation_0 == 0 and max_inflammation_20 ==20:\n",
    "    print(\"Suspicious looking maxima!\")"
   ]
  },
  {
   "cell_type": "code",
   "execution_count": 15,
   "id": "0e5072cd-23c7-4491-9506-24a73407b114",
   "metadata": {},
   "outputs": [
    {
     "name": "stdout",
     "output_type": "stream",
     "text": [
      "Suspicious looking maxima!\n"
     ]
    }
   ],
   "source": [
    "if max_inflammation_0 == 0 and max_inflammation_20 == 20:\n",
    "    print(\"Suspicious looking maxima!\")\n",
    "elif data.min(axis=0).sum() == 0 :\n",
    "    print(\"Minima add up to zero!\")\n",
    "else:\n",
    "    print(\"Seems okay!\")"
   ]
  },
  {
   "cell_type": "code",
   "execution_count": null,
   "id": "04ef771e-19ad-4998-a455-a4866d435d54",
   "metadata": {},
   "outputs": [],
   "source": []
  }
 ],
 "metadata": {
  "kernelspec": {
   "display_name": "Python 3 (ipykernel)",
   "language": "python",
   "name": "python3"
  },
  "language_info": {
   "codemirror_mode": {
    "name": "ipython",
    "version": 3
   },
   "file_extension": ".py",
   "mimetype": "text/x-python",
   "name": "python",
   "nbconvert_exporter": "python",
   "pygments_lexer": "ipython3",
   "version": "3.9.12"
  }
 },
 "nbformat": 4,
 "nbformat_minor": 5
}
